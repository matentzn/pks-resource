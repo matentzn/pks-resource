{
 "cells": [
  {
   "cell_type": "markdown",
   "id": "1346f23e",
   "metadata": {},
   "source": [
    "# Report for primary knowledge sources in the Matrix KG\n",
    "\n",
    "This notebook is about drafting a useful high level summary report for KGs highlighting information like licensing for primary knowledge sources and their relevance for drug repurposing modeling."
   ]
  },
  {
   "cell_type": "code",
   "execution_count": 4,
   "id": "4cd99fac",
   "metadata": {},
   "outputs": [],
   "source": [
    "import pandas as pd\n",
    "from pathlib import Path\n",
    "\n",
    "# This contains all the code for this notebook\n",
    "from pks_utils import (\n",
    "    parse_infores,\n",
    "    parse_reusabledata,\n",
    "    parse_kgregistry,\n",
    "    parse_matrixcurated,\n",
    "    parse_matrixreviews,\n",
    "    create_pks_subset_relevant_to_matrix,\n",
    "    generate_list_of_pks_markdown_strings,\n",
    "    generate_pks_markdown_documentation,\n",
    "    load_json_file,\n",
    "    load_yaml_file,\n",
    "    save_markdown_file,\n",
    "    save_yaml_file\n",
    ")\n",
    "\n",
    "# Outputs\n",
    "pks_md_file = Path(\"primary-knowledge-sources.md\")\n",
    "pks_yaml_file = Path(\"primary-knowledge-sources.yml\")\n",
    "\n",
    "# Data sources\n",
    "infores_file = Path(\"sources/infores_catalog.yaml\")\n",
    "reusabledata_file = Path(\"sources/reusabledata.json\")\n",
    "kgregistry_file = Path(\"sources/kgregistry.yml\")\n",
    "\n",
    "# Mappings\n",
    "reusabledata_infores_mapping_file = Path(\"mappings/reusabledata-infores.sssom.tsv\")\n",
    "kgregistry_infores_mapping_file = Path(\"mappings/kgregistry-infores.sssom.tsv\")\n",
    "\n",
    "# Matrix curated information\n",
    "matrixcurated_file = Path(\"sources/matrixcurated.tsv\")\n",
    "matrixreviews_file = Path(\"sources/matrixreviews.tsv\")\n",
    "\n",
    "# Load infores_catalog.yml (YAML)\n",
    "infores_d = load_yaml_file(infores_file)\n",
    "\n",
    "# Load reusabledata.json (JSON)\n",
    "reusabledata_d = load_json_file(reusabledata_file)\n",
    "\n",
    "# Mapping: reusabledata -> infores\n",
    "reusabledata_mapping_d = pd.read_csv(reusabledata_infores_mapping_file, sep='\\t', comment=\"#\")\n",
    "reusabledata_mapping = {\n",
    "    row[\"subject_id\"]: row[\"object_id\"]\n",
    "    for _, row in reusabledata_mapping_d.iterrows()\n",
    "}\n",
    "\n",
    "# Load kgregistry.yml (YAML)\n",
    "kgregistry_d = load_yaml_file(kgregistry_file)\n",
    "kgregistry_mapping_d = pd.read_csv(kgregistry_infores_mapping_file, sep=\"\\t\", comment=\"#\")\n",
    "kgregistry_mapping = {\n",
    "    row[\"subject_id\"]: row[\"object_id\"]\n",
    "    for _, row in kgregistry_mapping_d.iterrows()\n",
    "}\n",
    "\n",
    "# Load manually curated data (TSV)\n",
    "matrixcurated_d = pd.read_csv(matrixcurated_file, sep=\"\\t\", dtype=str)\n",
    "matrixreviews_d = pd.read_csv(matrixreviews_file, sep=\"\\t\", dtype=str)\n",
    "\n",
    "# Create a list of relevant sources from the matrix curated data\n",
    "# Note: this list might be overwritten depending on where we want it to come from\n",
    "relevant_sources = [src.replace(\"infores:\", \"\") for src in matrixcurated_d['primary_knowledge_source'].unique().tolist()]\n",
    "\n"
   ]
  },
  {
   "cell_type": "code",
   "execution_count": 5,
   "id": "f9fa882a",
   "metadata": {},
   "outputs": [],
   "source": [
    "# Parse all sources and combine into primary_knowledge_sources\n",
    "\n",
    "primary_knowledge_sources = {}\n",
    "parse_infores(infores_d, primary_knowledge_sources)\n",
    "parse_kgregistry(kgregistry_d, primary_knowledge_sources, kgregistry_mapping)\n",
    "parse_reusabledata(reusabledata_d, primary_knowledge_sources, reusabledata_mapping)\n",
    "parse_matrixcurated(matrixcurated_d, primary_knowledge_sources)\n",
    "parse_matrixreviews(matrixreviews_d, primary_knowledge_sources)"
   ]
  },
  {
   "cell_type": "code",
   "execution_count": 6,
   "id": "a9f1e404",
   "metadata": {},
   "outputs": [],
   "source": [
    "# Produce final outputs (yaml file and markdown):\n",
    "\n",
    "## Create subset of PKS relevant to the matrix and only output that\n",
    "matrix_subset_relevant_sources = create_pks_subset_relevant_to_matrix(primary_knowledge_sources, relevant_sources)\n",
    "save_yaml_file(matrix_subset_relevant_sources, pks_yaml_file)\n",
    "\n",
    "## Generate the documentation\n",
    "pks_documentation_texts = generate_list_of_pks_markdown_strings(matrix_subset_relevant_sources)\n",
    "documentation_md = generate_pks_markdown_documentation(pks_documentation_texts)\n",
    "save_markdown_file(documentation_md, pks_md_file)"
   ]
  }
 ],
 "metadata": {
  "kernelspec": {
   "display_name": "pks-resource (3.11.7)",
   "language": "python",
   "name": "python3"
  },
  "language_info": {
   "codemirror_mode": {
    "name": "ipython",
    "version": 3
   },
   "file_extension": ".py",
   "mimetype": "text/x-python",
   "name": "python",
   "nbconvert_exporter": "python",
   "pygments_lexer": "ipython3",
   "version": "3.11.7"
  }
 },
 "nbformat": 4,
 "nbformat_minor": 5
}
