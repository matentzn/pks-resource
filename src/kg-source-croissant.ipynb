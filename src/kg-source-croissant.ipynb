{
 "cells": [
  {
   "cell_type": "markdown",
   "id": "1346f23e",
   "metadata": {},
   "source": [
    "# Example generation of a Croissant metadata file\n",
    "\n",
    "This notebook is about showing a Croissant metadata file can be automatically generated alongside a data-asset."
   ]
  },
  {
   "cell_type": "code",
   "execution_count": 10,
   "id": "7e0bb06e",
   "metadata": {},
   "outputs": [],
   "source": [
    "from linkml_runtime.utils.schemaview import SchemaView\n",
    "from croissant_utils import (\n",
    "    render_matrix_kg_template,\n",
    "    validate_croissant_metadata,\n",
    "    write_croissant_metadata_to_file\n",
    ")\n",
    "import importlib_resources\n",
    "SCHEMA_YAML = importlib_resources.files(\"matrix_schema\").joinpath(\"schema/matrix_schema.yaml\")\n",
    "matrix_schema = SchemaView(SCHEMA_YAML)\n",
    "\n",
    "## Arguments\n",
    "matrix_kg_croissant_file = \"matrix-kg.croissant.json\"\n",
    "croissant_jinja2_template_path = \"croissant-templates/matrix-kg.croissant.json.jinja2\"\n"
   ]
  },
  {
   "cell_type": "code",
   "execution_count": 11,
   "id": "a9f1e404",
   "metadata": {},
   "outputs": [],
   "source": [
    "# Render the Croissant metadata JSON from the Jinja2 template\n",
    "matrix_kg_croissant_json = render_matrix_kg_template(matrix_schema, croissant_jinja2_template_path)\n",
    "\n",
    "# Validate the generated Croissant metadata\n",
    "ds = validate_croissant_metadata(matrix_kg_croissant_json)\n",
    "\n",
    "# Write the generated Croissant metadata to a file\n",
    "write_croissant_metadata_to_file(matrix_kg_croissant_json, matrix_kg_croissant_file)"
   ]
  }
 ],
 "metadata": {
  "kernelspec": {
   "display_name": "pks-resource (3.11.7)",
   "language": "python",
   "name": "python3"
  },
  "language_info": {
   "codemirror_mode": {
    "name": "ipython",
    "version": 3
   },
   "file_extension": ".py",
   "mimetype": "text/x-python",
   "name": "python",
   "nbconvert_exporter": "python",
   "pygments_lexer": "ipython3",
   "version": "3.11.7"
  }
 },
 "nbformat": 4,
 "nbformat_minor": 5
}
