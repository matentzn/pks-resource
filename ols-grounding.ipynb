{
 "cells": [
  {
   "cell_type": "code",
   "execution_count": null,
   "id": "a1323971",
   "metadata": {},
   "outputs": [
    {
     "name": "stdout",
     "output_type": "stream",
     "text": [
      "| ontologyId   | curie           | label                                                               |    score |\n",
      "|:-------------|:----------------|:--------------------------------------------------------------------|---------:|\n",
      "| omit         | OMIT:0005196    | ['Diabetes Mellitus']                                               | 0.924646 |\n",
      "| mondo        | MONDO:0005015   | ['diabetes mellitus']                                               | 0.845887 |\n",
      "| snomed       | SNOMED:73211009 | ['Diabetes mellitus (disorder)', 'Diabetes mellitus']               | 0.843674 |\n",
      "| ncit         | NCIT:C2985      | ['Diabetes Mellitus']                                               | 0.838122 |\n",
      "| doid         | DOID:9351       | ['diabetes mellitus']                                               | 0.837518 |\n",
      "| omit         | OMIT:0005200    | ['Diabetes Mellitus, Type 2']                                       | 0.822857 |\n",
      "| pw           | PW:0000176      | ['diabetes mellitus pathway']                                       | 0.82162  |\n",
      "| mondo        | MONDO:1010574   | ['diabetes mellitus, dog']                                          | 0.821564 |\n",
      "| omit         | OMIT:0005198    | ['Diabetes Mellitus, Type 1']                                       | 0.819658 |\n",
      "| doid         | DOID:9743       | ['diabetic neuropathy']                                             | 0.811777 |\n",
      "| mondo        | MONDO:1010577   | ['diabetes mellitus, pig']                                          | 0.809395 |\n",
      "| ogg          | OGG:3000003401  | ['IDDM2']                                                           | 0.807703 |\n",
      "| snomed       | SNOMED:44054006 | ['Diabetes mellitus type 2 (disorder)', 'Type 2 diabetes mellitus'] | 0.807564 |\n",
      "| snomed       | SNOMED:46635009 | ['Diabetes mellitus type 1 (disorder)', 'Type 1 diabetes mellitus'] | 0.807333 |\n",
      "| omit         | OMIT:0032796    | ['IDDM3']                                                           | 0.806917 |\n",
      "| ogg          | OGG:3000003402  | ['IDDM3']                                                           | 0.806917 |\n",
      "| omit         | OMIT:0005197    | ['Diabetes Mellitus, Experimental']                                 | 0.806141 |\n",
      "| mondo        | MONDO:1010576   | ['diabetes mellitus, horse']                                        | 0.805496 |\n",
      "| doid         | DOID:9352       | ['type 2 diabetes mellitus']                                        | 0.804942 |\n",
      "| mondo        | MONDO:1010575   | ['diabetes mellitus, domestic cat']                                 | 0.803713 |\n"
     ]
    }
   ],
   "source": [
    "import requests\n",
    "import pandas as pd\n",
    "import requests\n",
    "import os\n",
    "import json\n",
    "from dotenv import load_dotenv\n",
    "\n",
    "# Load environment variables from .env file\n",
    "load_dotenv()\n",
    "\n",
    "API_URL = \"https://www.ebi.ac.uk/ols4/api\"\n",
    "API_KEY = os.getenv('OPENAI_API_KEY')\n",
    "\n",
    "if not API_KEY:\n",
    "    raise ValueError(\"Please set the OPENAI_API_KEY environment variable.\")\n",
    "\n",
    "def embed_text(text):\n",
    "    res = requests.post(\n",
    "        'https://api.openai.com/v1/embeddings',\n",
    "        headers={'Authorization': f'Bearer {API_KEY}'},\n",
    "        json={'input': text, 'model': 'text-embedding-3-small'}\n",
    "    )\n",
    "    return res.json()['data'][0]['embedding']\n",
    "\n",
    "def search_ols(vec):\n",
    "    res = requests.post(f\"{API_URL}/v2/classes/llm_embedding\", data=json.dumps(vec), headers={\n",
    "        'Content-Type': 'application/json'})\n",
    "    return res.json()['elements']\n",
    "\n",
    "vec = embed_text(\"diabetes mellitus\")\n",
    "res = search_ols(vec)\n",
    "\n",
    "df = pd.DataFrame(res)\n",
    "df = df[['ontologyId', 'curie', 'label', 'score']]\n",
    "df = df[df['ontologyId'] == 'mondo']\n",
    "\n",
    "print(df.to_markdown(index=False))"
   ]
  },
  {
   "cell_type": "markdown",
   "id": "8385e0f3",
   "metadata": {},
   "source": []
  }
 ],
 "metadata": {
  "kernelspec": {
   "display_name": "pks-resource (3.11.7)",
   "language": "python",
   "name": "python3"
  },
  "language_info": {
   "codemirror_mode": {
    "name": "ipython",
    "version": 3
   },
   "file_extension": ".py",
   "mimetype": "text/x-python",
   "name": "python",
   "nbconvert_exporter": "python",
   "pygments_lexer": "ipython3",
   "version": "3.11.7"
  }
 },
 "nbformat": 4,
 "nbformat_minor": 5
}
