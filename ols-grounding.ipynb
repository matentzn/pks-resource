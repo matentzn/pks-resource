{
 "cells": [
  {
   "cell_type": "code",
   "execution_count": 2,
   "id": "a1323971",
   "metadata": {},
   "outputs": [
    {
     "name": "stdout",
     "output_type": "stream",
     "text": [
      "| ontologyId   | curie         | label                               |    score |\n",
      "|:-------------|:--------------|:------------------------------------|---------:|\n",
      "| mondo        | MONDO:0005015 | ['diabetes mellitus']               | 0.845933 |\n",
      "| mondo        | MONDO:1010574 | ['diabetes mellitus, dog']          | 0.821607 |\n",
      "| mondo        | MONDO:1010577 | ['diabetes mellitus, pig']          | 0.809479 |\n",
      "| mondo        | MONDO:1010576 | ['diabetes mellitus, horse']        | 0.805619 |\n",
      "| mondo        | MONDO:1010575 | ['diabetes mellitus, domestic cat'] | 0.803764 |\n"
     ]
    }
   ],
   "source": [
    "import requests\n",
    "import pandas as pd\n",
    "import requests\n",
    "import os\n",
    "import json\n",
    "from dotenv import load_dotenv\n",
    "\n",
    "# Load environment variables from .env file\n",
    "load_dotenv()\n",
    "\n",
    "API_URL = \"https://www.ebi.ac.uk/ols4/api\"\n",
    "API_KEY = os.getenv('OPENAI_API_KEY')\n",
    "\n",
    "if not API_KEY:\n",
    "    raise ValueError(\"Please set the OPENAI_API_KEY environment variable.\")\n",
    "\n",
    "def embed_text(text):\n",
    "    res = requests.post(\n",
    "        'https://api.openai.com/v1/embeddings',\n",
    "        headers={'Authorization': f'Bearer {API_KEY}'},\n",
    "        json={'input': text, 'model': 'text-embedding-3-small'}\n",
    "    )\n",
    "    return res.json()['data'][0]['embedding']\n",
    "\n",
    "def search_ols(vec):\n",
    "    res = requests.post(f\"{API_URL}/v2/classes/llm_embedding\", data=json.dumps(vec), headers={\n",
    "        'Content-Type': 'application/json'})\n",
    "    return res.json()['elements']\n",
    "\n",
    "vec = embed_text(\"diabetes mellitus\")\n",
    "res = search_ols(vec)\n",
    "\n",
    "df = pd.DataFrame(res)\n",
    "df = df[['ontologyId', 'curie', 'label', 'score']]\n",
    "df = df[df['ontologyId'] == 'mondo']\n",
    "\n",
    "print(df.to_markdown(index=False))"
   ]
  },
  {
   "cell_type": "markdown",
   "id": "8385e0f3",
   "metadata": {},
   "source": []
  }
 ],
 "metadata": {
  "kernelspec": {
   "display_name": "pks-resource (3.11.7)",
   "language": "python",
   "name": "python3"
  },
  "language_info": {
   "codemirror_mode": {
    "name": "ipython",
    "version": 3
   },
   "file_extension": ".py",
   "mimetype": "text/x-python",
   "name": "python",
   "nbconvert_exporter": "python",
   "pygments_lexer": "ipython3",
   "version": "3.11.7"
  }
 },
 "nbformat": 4,
 "nbformat_minor": 5
}
